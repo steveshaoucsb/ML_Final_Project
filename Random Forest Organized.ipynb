{
 "cells": [
  {
   "cell_type": "code",
   "execution_count": 32,
   "id": "c550a4d4-0dce-4f48-b241-9cc3c1625c7f",
   "metadata": {},
   "outputs": [],
   "source": [
    "# loading packages\n",
    "import io\n",
    "import pandas as pd\n",
    "import numpy as np\n",
    "from sklearn import ensemble\n",
    "from sklearn.linear_model import Lasso\n",
    "from tqdm import tqdm\n",
    "import matplotlib.pyplot as plt\n",
    "import warnings\n",
    "warnings.filterwarnings('ignore')"
   ]
  },
  {
   "cell_type": "code",
   "execution_count": 33,
   "id": "73bad1a7-d29d-423a-ae55-5fb4d5e1cf6b",
   "metadata": {},
   "outputs": [],
   "source": [
    "# read the uploaded CSV file into a DataFrame using pandas\n",
    "df = pd.read_csv('./Cleaned Data/Features and Target (Merged).csv')\n",
    "df[\"forward_return\"] = df[\"forward_return\"]/100"
   ]
  },
  {
   "cell_type": "code",
   "execution_count": 34,
   "id": "ea3e2619-f8c3-4689-9258-baece55873c1",
   "metadata": {},
   "outputs": [
    {
     "name": "stdout",
     "output_type": "stream",
     "text": [
      "[{'start_date': 199301, 'end_date': 200801, 'validation_separation_date': 200301, 'training_separation_date': 200101, 'rolling_order': 1}, {'start_date': 199801, 'end_date': 201301, 'validation_separation_date': 200801, 'training_separation_date': 200601, 'rolling_order': 2}, {'start_date': 200301, 'end_date': 201801, 'validation_separation_date': 201301, 'training_separation_date': 201101, 'rolling_order': 3}, {'start_date': 200801, 'end_date': 202301, 'validation_separation_date': 201801, 'training_separation_date': 201601, 'rolling_order': 4}]\n"
     ]
    }
   ],
   "source": [
    "##这一步是为了生成一个list list里面有四个元素，每个元素是个字典，字典里面保存了我们每次rolling period\n",
    "##的开始时间 结束时间，training 和 Validation以及testing的时间节点\n",
    "iteration_list = []\n",
    "rolling_order = 1\n",
    "for i in range(1993,2013,5):\n",
    "    start_date = int(str(i) + \"01\")\n",
    "    end_date = int(str(i+15) + \"01\")\n",
    "    validation_separation_date = int(str(i+10) + \"01\")\n",
    "    training_separation_date = int(str(i+8) + \"01\")\n",
    "    Dic = {\"start_date\":start_date,\"end_date\":end_date,\"validation_separation_date\":validation_separation_date,\n",
    "           \"training_separation_date\":training_separation_date,\"rolling_order\":rolling_order}\n",
    "    rolling_order = rolling_order + 1\n",
    "    iteration_list.append(Dic)\n",
    "print(iteration_list)\n",
    "\n",
    "features =['News_sentiment_3MA', 'Consumer_sentiment_3MA', 'Investor_sentiment_3MA','betaVIX', \n",
    "           'BookLeverage', 'ConvDebt', 'DolVol', 'hire', 'IdioVol3F', 'IndMom', 'MaxRet',\n",
    "           'OPLeverage', 'PctAcc', 'RDIPO', 'ReturnSkew', 'Size', 'STreversal','zerotradeAlt1']"
   ]
  },
  {
   "cell_type": "code",
   "execution_count": 35,
   "id": "db929b34-cee3-4395-8534-ee22f3576bbb",
   "metadata": {},
   "outputs": [
    {
     "name": "stdout",
     "output_type": "stream",
     "text": [
      "[{'No_of_trees': 100, 'leaf': 50, 'No_of_features': 3}, {'No_of_trees': 100, 'leaf': 50, 'No_of_features': 6}, {'No_of_trees': 100, 'leaf': 50, 'No_of_features': 12}, {'No_of_trees': 100, 'leaf': 50, 'No_of_features': 18}, {'No_of_trees': 100, 'leaf': 250, 'No_of_features': 3}, {'No_of_trees': 100, 'leaf': 250, 'No_of_features': 6}, {'No_of_trees': 100, 'leaf': 250, 'No_of_features': 12}, {'No_of_trees': 100, 'leaf': 250, 'No_of_features': 18}, {'No_of_trees': 100, 'leaf': 500, 'No_of_features': 3}, {'No_of_trees': 100, 'leaf': 500, 'No_of_features': 6}, {'No_of_trees': 100, 'leaf': 500, 'No_of_features': 12}, {'No_of_trees': 100, 'leaf': 500, 'No_of_features': 18}, {'No_of_trees': 500, 'leaf': 50, 'No_of_features': 3}, {'No_of_trees': 500, 'leaf': 50, 'No_of_features': 6}, {'No_of_trees': 500, 'leaf': 50, 'No_of_features': 12}, {'No_of_trees': 500, 'leaf': 50, 'No_of_features': 18}, {'No_of_trees': 500, 'leaf': 250, 'No_of_features': 3}, {'No_of_trees': 500, 'leaf': 250, 'No_of_features': 6}, {'No_of_trees': 500, 'leaf': 250, 'No_of_features': 12}, {'No_of_trees': 500, 'leaf': 250, 'No_of_features': 18}, {'No_of_trees': 500, 'leaf': 500, 'No_of_features': 3}, {'No_of_trees': 500, 'leaf': 500, 'No_of_features': 6}, {'No_of_trees': 500, 'leaf': 500, 'No_of_features': 12}, {'No_of_trees': 500, 'leaf': 500, 'No_of_features': 18}, {'No_of_trees': 1000, 'leaf': 50, 'No_of_features': 3}, {'No_of_trees': 1000, 'leaf': 50, 'No_of_features': 6}, {'No_of_trees': 1000, 'leaf': 50, 'No_of_features': 12}, {'No_of_trees': 1000, 'leaf': 50, 'No_of_features': 18}, {'No_of_trees': 1000, 'leaf': 250, 'No_of_features': 3}, {'No_of_trees': 1000, 'leaf': 250, 'No_of_features': 6}, {'No_of_trees': 1000, 'leaf': 250, 'No_of_features': 12}, {'No_of_trees': 1000, 'leaf': 250, 'No_of_features': 18}, {'No_of_trees': 1000, 'leaf': 500, 'No_of_features': 3}, {'No_of_trees': 1000, 'leaf': 500, 'No_of_features': 6}, {'No_of_trees': 1000, 'leaf': 500, 'No_of_features': 12}, {'No_of_trees': 1000, 'leaf': 500, 'No_of_features': 18}]\n"
     ]
    }
   ],
   "source": [
    "##Random forest有三个重要的参数，可以列出每个参数不同的可能，然后把它们排列组合分配到一起  就会生成\n",
    "##不同的模型。这些模型会在validation set选出MSE最小的一个，用在做Testing上\n",
    "No_of_trees = [100,500,1000]\n",
    "leaf = [50,250,500]\n",
    "No_of_features = [3,6,12,18]\n",
    "parameters = []\n",
    "for a in No_of_trees:\n",
    "    for b in leaf:\n",
    "        for c in No_of_features:\n",
    "            Dic = {\"No_of_trees\":a,\"leaf\":b,\"No_of_features\":c}\n",
    "            parameters.append(Dic)\n",
    "print(parameters)"
   ]
  },
  {
   "cell_type": "code",
   "execution_count": 36,
   "id": "ba26866b-96f5-431b-a064-c32bab174ccf",
   "metadata": {},
   "outputs": [
    {
     "name": "stderr",
     "output_type": "stream",
     "text": [
      "100%|███████████████████████████████████████████████████████████████████████████████████| 4/4 [07:35<00:00, 113.88s/it]\n"
     ]
    }
   ],
   "source": [
    "Strategy_monthly_returns = []\n",
    "for value in tqdm(iteration_list): ##对每一个rolling period进行相同的操作，也就是进行training，validation到testing\n",
    "    ##对于每一个rolling period，从刚刚生成list当中的字典，获得他们的不同的节点，用于分割数据\n",
    "    start_date = value[\"start_date\"]\n",
    "    end_date = value[\"end_date\"]\n",
    "    validation_separation_date = value[\"validation_separation_date\"]\n",
    "    training_separation_date = value[\"training_separation_date\"]\n",
    "        \n",
    "    \n",
    "    ##开始根据节点 分割不同的periods\n",
    "    sub_period = df[(df[\"yyyymm\"]>=start_date)&(df[\"yyyymm\"]<end_date)]\n",
    "    sub_period = sub_period.dropna(subset = features)\n",
    "    training_sample = sub_period[sub_period[\"yyyymm\"]<training_separation_date].reset_index(drop=True)\n",
    "    validation_sample = sub_period[(sub_period[\"yyyymm\"]>=training_separation_date)&(sub_period[\"yyyymm\"]<validation_separation_date)].reset_index(drop=True)\n",
    "    testing_sample = sub_period[sub_period[\"yyyymm\"]>=validation_separation_date].reset_index(drop=True)\n",
    "    \n",
    "    ##现在我们用排列组合好的参数 生成不用模型\n",
    "    MSEs = []\n",
    "    for element in parameters:\n",
    "        model = ensemble.RandomForestRegressor(n_estimators=element[\"No_of_trees\"], # Number of trees used\n",
    "                                               criterion='squared_error',\n",
    "                                               min_samples_leaf=element[\"leaf\"], # Minimum size of terminal cluster\n",
    "                                               max_features=element[\"No_of_features\"], # Nb of predictive variables for each tree\n",
    "                                               max_leaf_nodes=None,\n",
    "                                               min_impurity_decrease=0.0,\n",
    "                                               bootstrap=True,\n",
    "                                               max_samples=len(training_sample),\n",
    "                                               random_state=42, n_jobs=6)\n",
    "        model.fit(training_sample[features],training_sample['forward_return'].values)\n",
    "        \n",
    "        ##算出每一个模型之下 validation sample 的MSE，并保存到事先建立好的名为MSEs的list当中\n",
    "        MSE_validation = np.mean(np.square(model.predict(validation_sample[features]) - validation_sample[\"forward_return\"].values))\n",
    "        MSE_testing = np.mean(np.square(model.predict(testing_sample[features]) - testing_sample[\"forward_return\"].values))\n",
    "        ##保存好validation MSE 以及该模型的参数\n",
    "        MSEs.append({**{\"MSE_validation\":MSE_validation,\"MSE_testing\":MSE_testing}, **element})\n",
    "        \n",
    "    Loss_results = pd.DataFrame(MSEs)\n",
    "    ##选出最小的MSE validation对应的模型\n",
    "    Best_in_validation = Loss_results[Loss_results['MSE_validation'] == Loss_results['MSE_validation'].min()].iloc[0,:].to_dict()\n",
    "    \n",
    "    ##用最好模型对应的参数重新train一次模型\n",
    "    best_model = ensemble.RandomForestRegressor(n_estimators=int(Best_in_validation[\"No_of_trees\"]), # Number of trees used\n",
    "                                           criterion='squared_error',\n",
    "                                           min_samples_leaf=int(Best_in_validation[\"leaf\"]), # Minimum size of terminal cluster\n",
    "                                           max_features=int(Best_in_validation[\"No_of_features\"]), # Nb of predictive variables for each tree\n",
    "                                           max_leaf_nodes=None,\n",
    "                                           min_impurity_decrease=0.0,\n",
    "                                           bootstrap=True,\n",
    "                                           max_samples=len(training_sample),\n",
    "                                           random_state=42, n_jobs=6)\n",
    "    best_model.fit(training_sample[features],training_sample['forward_return'].values)\n",
    "    \n",
    "    ##计算一下在这个模型之下的features importance并保存\n",
    "    Features_important = pd.DataFrame(best_model.feature_importances_, features,\n",
    "             columns=[\"value\"]).sort_values([\"value\"],ascending=False).head(10)\n",
    "    \n",
    "    ##开始对testing sample进行处理，首先要拿到training sample的月份，变成一个list\n",
    "    Month_list = list(testing_sample[[\"yyyymm\"]].drop_duplicates().sort_values(by=\"yyyymm\")[\"yyyymm\"])\n",
    "    \n",
    "    Monthly_results = []\n",
    "    #每个月用一次模型进行预测\n",
    "    for month in Month_list:\n",
    "        sub_testing_sample = testing_sample[testing_sample[\"yyyymm\"]==month]\n",
    "        testing_predicted = pd.DataFrame(best_model.predict(sub_testing_sample[features]))\n",
    "        testing_realized = sub_testing_sample[[\"forward_return\"]].reset_index(drop=True)\n",
    "        testing_predicted_real = pd.concat([testing_predicted,testing_realized],axis=1)\n",
    "        \n",
    "        #predicted value 排序 选出最高的那20个equally weighted组成我们的portfolio\n",
    "        top_twenty = sum(list(testing_predicted_real.sort_values(by=0)[\"forward_return\"])[-20:])/20\n",
    "        ##bottom_twenty = sum(list(testing_predicted_real.sort_values(by=0)[\"forward_return\"])[:20])/20\n",
    "        \n",
    "        ##存储每一个月的return到我们预先设置好的list\n",
    "        Monthly_results.append(top_twenty)\n",
    "    \n",
    "    Portfolio_monthly_return_each_testing_period = pd.DataFrame({\"yyyymm\":Month_list,\"Monthly_results\":Monthly_results})\n",
    "    Portfolio_monthly_return_each_testing_period[\"yyyymm\"] = pd.to_datetime(Portfolio_monthly_return_each_testing_period['yyyymm'], format='%Y%m')\n",
    "    Strategy_monthly_returns.append(Portfolio_monthly_return_each_testing_period)\n",
    "\n",
    "Strategy_monthly_returns = pd.concat(Strategy_monthly_returns,axis = 0)"
   ]
  },
  {
   "cell_type": "code",
   "execution_count": 44,
   "id": "70d2968d-db83-4647-b9e5-6de1da1a995b",
   "metadata": {},
   "outputs": [],
   "source": [
    "Strategy_monthly_returns['Cumulative_Return'] = (1 + Strategy_monthly_returns['Monthly_results']).cumprod() - 1"
   ]
  },
  {
   "cell_type": "code",
   "execution_count": 46,
   "id": "9f412403-f0bd-428f-bf3f-5b44343da125",
   "metadata": {},
   "outputs": [
    {
     "data": {
      "text/plain": [
       "[<matplotlib.lines.Line2D at 0x1547901bfa0>]"
      ]
     },
     "execution_count": 46,
     "metadata": {},
     "output_type": "execute_result"
    },
    {
     "data": {
      "image/png": "[encoded data removed]",
      "text/plain": [
       "<Figure size 640x480 with 1 Axes>"
      ]
     },
     "metadata": {},
     "output_type": "display_data"
    }
   ],
   "source": [
    "plt.plot(Strategy_monthly_returns['yyyymm'], Strategy_monthly_returns['Cumulative_Return'])"
   ]
  },
  {
   "cell_type": "code",
   "execution_count": null,
   "id": "27ec1c41-3cf6-421d-9b06-1fdcb641e535",
   "metadata": {},
   "outputs": [],
   "source": []
  }
 ],
 "metadata": {
  "kernelspec": {
   "display_name": "Python 3 (ipykernel)",
   "language": "python",
   "name": "python3"
  },
  "language_info": {
   "codemirror_mode": {
    "name": "ipython",
    "version": 3
   },
   "file_extension": ".py",
   "mimetype": "text/x-python",
   "name": "python",
   "nbconvert_exporter": "python",
   "pygments_lexer": "ipython3",
   "version": "3.9.13"
  }
 },
 "nbformat": 4,
 "nbformat_minor": 5
}
